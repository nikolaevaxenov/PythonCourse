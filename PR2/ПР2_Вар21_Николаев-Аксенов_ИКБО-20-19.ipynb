{
 "cells": [
  {
   "cell_type": "markdown",
   "metadata": {},
   "source": [
    "# Практическая работа №2\n",
    "## Вариант №21"
   ]
  },
  {
   "cell_type": "markdown",
   "metadata": {},
   "source": [
    "**Задача 2.1**. Реализовать функцию-дерево решений:"
   ]
  },
  {
   "cell_type": "code",
   "execution_count": 3,
   "metadata": {},
   "outputs": [
    {
     "name": "stdout",
     "output_type": "stream",
     "text": [
      "f(['txl', 1985, 1998, 'org', 1961]) = 6\n",
      "f(['org', 1995, 1998, 'org', 1961]) = 13\n"
     ]
    }
   ],
   "source": [
    "def f21(x):\n",
    "    if x[1] == 1995:\n",
    "        return 13\n",
    "    elif x[1] == 1985:\n",
    "        if x[0] == 'yang':\n",
    "            return 12\n",
    "        elif x[0] == 'org':\n",
    "            if x[2] == 1971:\n",
    "                return 7\n",
    "            elif x[2] == 1957:\n",
    "                return 8\n",
    "            elif x[2] == 1998:\n",
    "                if x[3] == 'org':\n",
    "                    return 9\n",
    "                elif x[3] == 'raml':\n",
    "                    return 10\n",
    "                elif x[3] == 'eq':\n",
    "                    return 11\n",
    "        elif x[0] == 'txl':\n",
    "            if x[4] == 1961:\n",
    "                return 6\n",
    "            elif x[4] == 2020:\n",
    "                if x[2] == 1971:\n",
    "                    return 3\n",
    "                elif x[2] == 1957:\n",
    "                    return 4\n",
    "                elif x[2] == 1998:\n",
    "                    return 5\n",
    "            elif x[4] == 2014:\n",
    "                if x[3] == 'org':\n",
    "                    return 0\n",
    "                elif x[3] == 'raml':\n",
    "                    return 1\n",
    "                elif x[3] == 'eq':\n",
    "                    return 2\n",
    "\n",
    "print(f\"f(['txl', 1985, 1998, 'org', 1961]) = {f21(['txl', 1985, 1998, 'org', 1961])}\")\n",
    "print(f\"f(['org', 1995, 1998, 'org', 1961]) = {f21(['org', 1995, 1998, 'org', 1961])}\")"
   ]
  },
  {
   "cell_type": "markdown",
   "metadata": {},
   "source": [
    "**Задача 2.2.** Реализовать функцию транскодер из формата"
   ]
  },
  {
   "cell_type": "code",
   "execution_count": null,
   "metadata": {},
   "outputs": [],
   "source": [
    "def f22(x):\n",
    "    pass"
   ]
  },
  {
   "cell_type": "markdown",
   "metadata": {},
   "source": [
    "**Задача 2.3.** Реализовать функцию преобразования табличных данных. Входная и выходная таблицы заданы в построчной форме, с помощью списков. Заполненные ячейки имеют строковой тип данных. Пустые ячейки имеют значение None.  \n",
    "Над входной таблицей провести ряд преобразований:\n",
    "* Удалить пустые столбцы.\n",
    "* Удалить дубли среди строк.\n",
    "* Разбить столбец №1 по разделителю ”!”.\n",
    "* Преобразовать содержимое ячеек по примерам."
   ]
  },
  {
   "cell_type": "code",
   "execution_count": 2,
   "metadata": {},
   "outputs": [
    {
     "name": "stdout",
     "output_type": "stream",
     "text": [
      "['1', 'Мошли З.М.', '15-10-04', '+7 870 130-78-42']\n",
      "['0', 'Чачман П.Е.', '16-12-04', '+7 381 807-96-27']\n",
      "['1', 'Кибяк Б.Г.', '10-02-01', '+7 815 428-90-70']\n",
      "['0', 'Гекко С.И.', '28-03-04', '+7 061 620-99-82']\n",
      "\n",
      "\n",
      "\n",
      "['1', 'Мемовли А.З.', '27-07-04', '+7 353 647-42-66']\n",
      "['0', 'Вацагий В.Ц.', '15-11-99', '+7 713 467-82-51']\n",
      "['0', 'Тошацли А.Д.', '18-08-00', '+7 120 411-96-90']\n"
     ]
    }
   ],
   "source": [
    "def f23(lst):\n",
    "    nlst = [['1' if r[0].split('!')[0] == 'Да' else '0',\n",
    "             f\"{r[2].split()[2]} {r[2].split()[0][:1]}.{r[2].split()[1]}\",\n",
    "             r[4].replace('/', '-'),\n",
    "             f\"{r[0].split('!')[1][:2]} {r[0].split('!')[1][2:5]} {r[0].split('!')[1][5:8]}-{r[0].split('!')[1][8:10]}-{r[0].split('!')[1][10:]}\"]\n",
    "            for r in lst]\n",
    "    result = []\n",
    "    for x in nlst:\n",
    "        if x not in result:\n",
    "            result.append(x)\n",
    "    return result\n",
    "\n",
    "\n",
    "r1 = f23([[\"Да!+78701307842\", None, \"Захар М. Мошли\", None, \"15/10/04\"],\n",
    "          [\"Нет!+73818079627\", None, \"Павел Е. Чачман\", None, \"16/12/04\"],\n",
    "          [\"Да!+78154289070\", None, \"Борис Г. Кибяк\", None, \"10/02/01\"],\n",
    "          [\"Нет!+70616209982\", None, \"Семен И. Гекко\", None, \"28/03/04\"],\n",
    "          [\"Нет!+70616209982\", None, \"Семен И. Гекко\", None, \"28/03/04\"]])\n",
    "\n",
    "r2 = f23([[\"Да!+73536474266\", None, \"Арсен З. Мемовли\", None, \"27/07/04\"],\n",
    "          [\"Нет!+77134678251\", None, \"Василий Ц. Вацагий\", None, \"15/11/99\"],\n",
    "          [\"Нет!+71204119690\", None, \"Арсен Д. Тошацли\", None, \"18/08/00\"],\n",
    "          [\"Да!+73536474266\", None, \"Арсен З. Мемовли\", None, \"27/07/04\"]])\n",
    "\n",
    "for i in r1:\n",
    "    print(i)\n",
    "\n",
    "print(\"\\n\\n\")\n",
    "\n",
    "for i in r2:\n",
    "    print(i)\n"
   ]
  }
 ],
 "metadata": {
  "kernelspec": {
   "display_name": "Python 3",
   "language": "python",
   "name": "python3"
  },
  "language_info": {
   "codemirror_mode": {
    "name": "ipython",
    "version": 3
   },
   "file_extension": ".py",
   "mimetype": "text/x-python",
   "name": "python",
   "nbconvert_exporter": "python",
   "pygments_lexer": "ipython3",
   "version": "3.9.1"
  }
 },
 "nbformat": 4,
 "nbformat_minor": 4
}