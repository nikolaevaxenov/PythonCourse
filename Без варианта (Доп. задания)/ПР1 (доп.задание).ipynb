{
 "cells": [
  {
   "cell_type": "markdown",
   "id": "superior-wholesale",
   "metadata": {},
   "source": [
    "**Часть 1**"
   ]
  },
  {
   "cell_type": "markdown",
   "id": "floating-optimization",
   "metadata": {},
   "source": [
    "Как правило в низкоуровневых языках, таких как С, точность целых чисел ограничена 64-битами, однако Python поддерживает целые числа произвольной точности. Начиная с версии Python 3, все числа представлены в виде bignum и ограничены только доступной памятью системы."
   ]
  },
  {
   "cell_type": "markdown",
   "id": "noble-kingdom",
   "metadata": {},
   "source": [
    "Попробуйте составить код для решения следующих задач. Из арифметических операций можно использовать только явно указанные и в указанном количестве. Входным аргументом является переменная x. Унарный минус использовать нельзя.  \n",
    "* Умножение на 12. 4 сложения.\n",
    "* Умножение на 16. 4 сложения.\n",
    "* Умножение на 15. 3 сложения и 2 вычитания.\n",
    "* Умножение на 29. 6 сложений и одно вычитание"
   ]
  },
  {
   "cell_type": "code",
   "execution_count": 2,
   "id": "convertible-ireland",
   "metadata": {},
   "outputs": [
    {
     "name": "stdout",
     "output_type": "stream",
     "text": [
      "11 * 12 = 132, mul12 = 132\n",
      "11 * 16 = 176, mul16 = 176\n",
      "11 * 15 = 165, mul15 = 165\n",
      "11 * 29 = 319, mul29 = 319\n"
     ]
    }
   ],
   "source": [
    "def mul12(x):\n",
    "    s1 = x << 3\n",
    "    s2 = x << 2\n",
    "    return s1 + s2\n",
    "\n",
    "\n",
    "def mul16(x):\n",
    "    s = x << 4\n",
    "    return s\n",
    "\n",
    "\n",
    "def mul15(x):\n",
    "    s = x << 4\n",
    "    return s - x\n",
    "\n",
    "\n",
    "def mul29(x):\n",
    "    s1 = x << 4\n",
    "    s2 = x << 3\n",
    "    s3 = x << 2\n",
    "    return s1 + s2 + s3 + x\n",
    "\n",
    "\n",
    "print(f\"11 * 12 = {11*12}, mul12 = {mul12(11)}\")\n",
    "print(f\"11 * 16 = {11*16}, mul16 = {mul16(11)}\")\n",
    "print(f\"11 * 15 = {11*15}, mul15 = {mul15(11)}\")\n",
    "print(f\"11 * 29 = {11*29}, mul29 = {mul29(11)}\")"
   ]
  },
  {
   "cell_type": "markdown",
   "id": "sound-positive",
   "metadata": {},
   "source": [
    "Давайте специально напишем некорректный код для того, чтобы получить каждое из указанных ниже сообщений об ошибках.\n",
    "* SyntaxError: cannot assign to literal\n",
    "* SyntaxError: invalid syntax\n",
    "* NameError: name ... is not defined\n",
    "* TypeError: unsupported operand type(s) for ...\n",
    "* IndentationError: expected an indented block\n",
    "* ZeroDivisionError: division by zero\n",
    "* ValueError: math domain error\n",
    "* OverflowError: math range error"
   ]
  },
  {
   "cell_type": "code",
   "execution_count": 3,
   "id": "necessary-affect",
   "metadata": {},
   "outputs": [
    {
     "ename": "SyntaxError",
     "evalue": "cannot assign to literal (<ipython-input-3-0edf0769f37e>, line 2)",
     "output_type": "error",
     "traceback": [
      "\u001b[1;36m  File \u001b[1;32m\"<ipython-input-3-0edf0769f37e>\"\u001b[1;36m, line \u001b[1;32m2\u001b[0m\n\u001b[1;33m    1 = 2\u001b[0m\n\u001b[1;37m    ^\u001b[0m\n\u001b[1;31mSyntaxError\u001b[0m\u001b[1;31m:\u001b[0m cannot assign to literal\n"
     ]
    }
   ],
   "source": [
    "# SyntaxError: cannot assign to literal\n",
    "1 = 2\n",
    "\n",
    "# SyntaxError: invalid syntax\n",
    "name = raw_input()\n",
    "print name\n",
    "\n",
    "# NameError: name ... is not defined\n",
    "print(b)\n",
    "\n",
    "# TypeError: unsupported operand type(s) for ...\n",
    "a = 5\n",
    "a += 'b'\n",
    "\n",
    "# IndentationError: expected an indented block\n",
    "a = 10\n",
    "if a > 0:\n",
    "print(a)\n",
    "\n",
    "# ZeroDivisionError: division by zero\n",
    "1 / 0\n",
    "\n",
    "# ValueError: math domain error\n",
    "from math import sqrt\n",
    "sqrt(-1)\n",
    "\n",
    "# OverflowError: math range error\n",
    "from math import exp\n",
    "1-exp(-4*1000000*-0.0641515994108)"
   ]
  },
  {
   "cell_type": "markdown",
   "id": "impaired-norwegian",
   "metadata": {},
   "source": [
    "**Часть 2**"
   ]
  },
  {
   "cell_type": "markdown",
   "id": "horizontal-thing",
   "metadata": {},
   "source": [
    "В Питоне можно использовать цепочки операций сравнения, о которых не говорилось на лекции. Рассмотрите следующие примеры и попробуйте объяснить код:"
   ]
  },
  {
   "cell_type": "code",
   "execution_count": null,
   "id": "neither-circuit",
   "metadata": {},
   "outputs": [],
   "source": [
    "x = 5\n",
    "1 < x < 10\n",
    "# 1 меньше 5 и 10 больше 5\n",
    "\n",
    "x = 5\n",
    "1 < (x < 10)\n",
    "# Сначала производятся операции в скобках, 5 меньше 10 == True = 1, 1 больше 1 == False"
   ]
  },
  {
   "cell_type": "markdown",
   "id": "handmade-myanmar",
   "metadata": {},
   "source": [
    "Некто попытался реализовать \"наивную\" функцию умножения с помощью сложений. К сожалению, в коде много ошибок. Сможете ли вы их исправить? Добавьте к naive_mul автоматическое тестирование для проверки обоих аргументов в диапазоне от 0 до 100. Сравнивайте с встроенным умножением, используя конструкцию assert."
   ]
  },
  {
   "cell_type": "code",
   "execution_count": 28,
   "id": "ongoing-meter",
   "metadata": {},
   "outputs": [
    {
     "name": "stdout",
     "output_type": "stream",
     "text": [
      "55\n"
     ]
    }
   ],
   "source": [
    "def naive_mul(x, y):\n",
    "    if((0 <= x < 100) and (0 <= y < 100)):\n",
    "        if(x == 0 or y == 0):\n",
    "            return 0\n",
    "        else:\n",
    "            r = x\n",
    "            for _ in range(y - 1):\n",
    "                r += x\n",
    "            assert (x * y) == r, \"Something goes wrong!\"\n",
    "            return r\n",
    "    else:\n",
    "        raise ValueError('Out of boundaries!')\n",
    "\n",
    "\n",
    "print(naive_mul(5, 11))"
   ]
  },
  {
   "cell_type": "code",
   "execution_count": null,
   "id": "boolean-fraud",
   "metadata": {},
   "outputs": [],
   "source": []
  }
 ],
 "metadata": {
  "kernelspec": {
   "display_name": "Python 3",
   "language": "python",
   "name": "python3"
  },
  "language_info": {
   "codemirror_mode": {
    "name": "ipython",
    "version": 3
   },
   "file_extension": ".py",
   "mimetype": "text/x-python",
   "name": "python",
   "nbconvert_exporter": "python",
   "pygments_lexer": "ipython3",
   "version": "3.9.2"
  }
 },
 "nbformat": 4,
 "nbformat_minor": 5
}
