{
 "cells": [
  {
   "cell_type": "markdown",
   "id": "c25c35fd-5582-49fd-96f9-f1f71581344d",
   "metadata": {},
   "source": [
    "**Практическая работа №1**"
   ]
  },
  {
   "cell_type": "markdown",
   "id": "12868973-21bd-4ad9-bfaa-30f2671f4abb",
   "metadata": {},
   "source": [
    "**Задание №1**\n",
    "Некто попытался реализовать \"наивную\" функцию умножения с помощью сложения.\n",
    "К сожалению, в коде много ошибок. Сможете ли вы их исправить?\n",
    "Добавьте к naive_mul автоматическое тестирование для проверки обоих\n",
    "аргументов в диапазоне от 0 до 100. Сравнивайте с встроенным умножением,\n",
    "используя конструкцию assert."
   ]
  },
  {
   "cell_type": "code",
   "execution_count": 2,
   "id": "acb831b2-01fa-470f-99d6-d741a95ded55",
   "metadata": {},
   "outputs": [
    {
     "name": "stdout",
     "output_type": "stream",
     "text": [
      "All is working fine!\n"
     ]
    }
   ],
   "source": [
    "def naive_mul(x, y, res=0):\n",
    "    for _ in range(y):\n",
    "        res += x\n",
    "    return res\n",
    "\n",
    "\n",
    "def test_naive_mul():\n",
    "    for x in range(101):\n",
    "        for y in range(101):\n",
    "            assert naive_mul(x, y) == x * y\n",
    "    print(\"All is working fine!\")\n",
    "\n",
    "\n",
    "test_naive_mul()"
   ]
  },
  {
   "cell_type": "code",
   "execution_count": null,
   "id": "2ec9ec99-2f2f-42c0-96bc-532dc5b84712",
   "metadata": {},
   "outputs": [],
   "source": []
  },
  {
   "cell_type": "markdown",
   "id": "32644da7-49d9-4916-91ec-8e59232f171c",
   "metadata": {},
   "source": [
    "**Задание №2** Реализуйте функцию fast_mul в соотвествии с алгоритмом двоичного умножения\n",
    "в столбик. Добавьте автоматическое тестирование, как в случае с native_mul."
   ]
  },
  {
   "cell_type": "code",
   "execution_count": 4,
   "id": "64078b0b-30cf-4c9f-81f7-851d41b81a61",
   "metadata": {},
   "outputs": [
    {
     "name": "stdout",
     "output_type": "stream",
     "text": [
      "All is working fine!\n"
     ]
    }
   ],
   "source": [
    "def fast_mul(x, y, res=0):\n",
    "    if x == 0 or y == 0:\n",
    "        return 0\n",
    "    if x == 1:\n",
    "        return res + y\n",
    "    if x % 2 != 0:\n",
    "        res += y\n",
    "    return fast_mul(x // 2, y * 2, res)\n",
    "\n",
    "\n",
    "def test_fast_mul():\n",
    "    for x in range(101):\n",
    "        for y in range(101):\n",
    "            assert fast_mul(x, y) == x * y\n",
    "    print(\"All is working fine!\")\n",
    "\n",
    "\n",
    "test_fast_mul()"
   ]
  },
  {
   "cell_type": "code",
   "execution_count": null,
   "id": "8f53bf73-c967-42e8-b9b0-d299d83c0ec0",
   "metadata": {},
   "outputs": [],
   "source": []
  },
  {
   "cell_type": "markdown",
   "id": "571beaa9-aab5-4555-beb3-b827cb2529ce",
   "metadata": {},
   "source": [
    "**Задание №3** Реализуйте аналогичную функцию fast_pow для возведения в степень\n",
    "(её легко получить из предыдущего решения)."
   ]
  },
  {
   "cell_type": "code",
   "execution_count": 5,
   "id": "a600ae8f-cbb6-437b-852f-16f0e43fdee6",
   "metadata": {},
   "outputs": [
    {
     "name": "stdout",
     "output_type": "stream",
     "text": [
      "All is working fine!\n"
     ]
    }
   ],
   "source": [
    "def fast_pow(x, y, res=1):\n",
    "    while y > 0:\n",
    "        if y == 1:\n",
    "            return res * x\n",
    "        if y % 2 != 0:\n",
    "            res *= x\n",
    "        x *= x\n",
    "        y //= 2\n",
    "    return res\n",
    "\n",
    "\n",
    "def test_fast_pow():\n",
    "    for x in range(101):\n",
    "        for y in range(101):\n",
    "            assert fast_pow(x, y) == x ** y\n",
    "    print(\"All is working fine!\")\n",
    "\n",
    "\n",
    "test_fast_pow()"
   ]
  },
  {
   "cell_type": "code",
   "execution_count": null,
   "id": "aad36ad8-2177-4329-88a8-e72f5623f07c",
   "metadata": {},
   "outputs": [],
   "source": []
  }
 ],
 "metadata": {
  "kernelspec": {
   "display_name": "Python 3",
   "language": "python",
   "name": "python3"
  },
  "language_info": {
   "codemirror_mode": {
    "name": "ipython",
    "version": 3
   },
   "file_extension": ".py",
   "mimetype": "text/x-python",
   "name": "python",
   "nbconvert_exporter": "python",
   "pygments_lexer": "ipython3",
   "version": "3.9.5"
  }
 },
 "nbformat": 4,
 "nbformat_minor": 5
}
