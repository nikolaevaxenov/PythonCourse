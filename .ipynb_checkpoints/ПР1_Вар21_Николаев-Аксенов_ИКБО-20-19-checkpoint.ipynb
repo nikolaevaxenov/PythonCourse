{
 "cells": [
  {
   "cell_type": "markdown",
   "id": "exciting-productivity",
   "metadata": {},
   "source": [
    "# Практическая работа №1\n",
    "## Вариант №21"
   ]
  },
  {
   "cell_type": "code",
   "execution_count": 3,
   "id": "medical-manor",
   "metadata": {},
   "outputs": [],
   "source": [
    "# Импортируем необходимые библиотеки\n",
    "from decimal import Decimal # Для красивого вывода эксп. числа\n",
    "import math # Для вычисления sin, cos, tg, exp, sqrt, log"
   ]
  },
  {
   "cell_type": "markdown",
   "id": "offshore-bernard",
   "metadata": {},
   "source": [
    "**Задача 1.1.** Реализовать функцию\n",
    "$ f(x, y, z) = \\sqrt{\\frac{tg{y}+cos{y}}{\\frac{z^{7}}{67}+46x^{4}-12}} - \\sqrt{9z^{2}-57x^{8}}-(x^{2}+20y^{5}) $"
   ]
  },
  {
   "cell_type": "markdown",
   "id": "level-piano",
   "metadata": {},
   "source": [
    "Примеры вычисления f:\n",
    "1. `f(-1, -86, -64) = 9.41e+10`\n",
    "2. `f(1, -74, 56) = 4.44e+10`"
   ]
  },
  {
   "cell_type": "markdown",
   "id": "academic-movement",
   "metadata": {},
   "source": [
    "**Решение:**"
   ]
  },
  {
   "cell_type": "code",
   "execution_count": 5,
   "id": "configured-impact",
   "metadata": {},
   "outputs": [
    {
     "name": "stdout",
     "output_type": "stream",
     "text": [
      "f(-1, -86, -64) = 9.41E+10\n",
      "f(1, -74, 56) = 4.44E+10\n"
     ]
    }
   ],
   "source": [
    "def f(x, y, z):\n",
    "    return math.sqrt((math.tan(y) + math.cos(y))/(((z**7)/(67))+46 * x**4 - 12)) - math.sqrt(9 * z**2 - 57 * x**8) - (x**2 + 20 * y**5)\n",
    "\n",
    "\n",
    "print(f\"f(-1, -86, -64) = {Decimal(f(-1, -86, -64)):.2E}\")\n",
    "print(f\"f(1, -74, 56) = {Decimal(f(1, -74, 56)):.2E}\")"
   ]
  },
  {
   "cell_type": "markdown",
   "id": "missing-tension",
   "metadata": {},
   "source": [
    "**Задача 1.2.** Реализовать кусочно-линейную функцию\n",
    "$$\n",
    "f(x) = \\left\\{\n",
    "    \\begin{array}\\\\\n",
    "        30(\\frac{x^{7}}{67}+46x^{4}-12)^{4}-cos{x}, & \\mbox{x < 93} \\\\\n",
    "        (\\frac{x^{7}}{65}-56x^{3})^{2}-15x^{8}, & \\mbox{93 $\\leq$ x < 166} \\\\\n",
    "        x^{3}+e^{x}, & \\mbox{166 $\\leq$ x < 239} \\\\\n",
    "        sin{(42x^{6}-x-21)}-sin{x}+47, & \\mbox{239 $\\leq$ x < 258} \\\\\n",
    "        \\frac{x^{7}}{83}-99x^{5}, & \\mbox{x $\\geq$ 258}\n",
    "    \\end{array}\n",
    "\\right.\n",
    "$$"
   ]
  },
  {
   "cell_type": "markdown",
   "id": "organic-difference",
   "metadata": {},
   "source": [
    "Примеры вычисления f:\n",
    "1. `f(89) = 5.80e+48`\n",
    "2. `f(50) = 6.11e+41`"
   ]
  },
  {
   "cell_type": "code",
   "execution_count": 7,
   "id": "broad-chair",
   "metadata": {},
   "outputs": [
    {
     "name": "stdout",
     "output_type": "stream",
     "text": [
      "f(89) = 5.80E+48\n",
      "f(50) = 6.11E+41\n"
     ]
    }
   ],
   "source": [
    "def f(x):\n",
    "    if x < 93:\n",
    "        return 30 * (((x**7)/(67)) + 46 * x**4 - 12)**4 - math.cos(x)\n",
    "    elif 93 <= x < 166:\n",
    "        return (((x**7)/(65))-56 * x**3)**2\n",
    "    elif 166 <= x < 239:\n",
    "        return x**3 + math.exp(x)\n",
    "    elif 239 <= x < 258:\n",
    "        return math.sin(42 * x**6 - x - 21) - math.sin(x) + 47\n",
    "    else:\n",
    "        return ((x**7)/(83)) - 99 * x**5\n",
    "\n",
    "\n",
    "print(f\"f(89) = {Decimal(f(89)):.2E}\")\n",
    "print(f\"f(50) = {Decimal(f(50)):.2E}\")"
   ]
  },
  {
   "cell_type": "markdown",
   "id": "material-danger",
   "metadata": {},
   "source": [
    "**Задача 1.3.** Реализовать итарационную функцию\n",
    "$$f(n, m) = \\sum^n_{i=1}\\,(tg{(ln{i}-\\frac{i^{3}}{67}-31)})+i^{2} - \\sum^n_{i=1}\\,(75i^{4}+i) $$"
   ]
  },
  {
   "cell_type": "markdown",
   "id": "dutch-forest",
   "metadata": {},
   "source": [
    "Примеры вычисления f:\n",
    "1. `f(43) = -2.34e+9`\n",
    "2. `f(21) = -6.88e+7`"
   ]
  },
  {
   "cell_type": "code",
   "execution_count": 11,
   "id": "significant-viewer",
   "metadata": {},
   "outputs": [
    {
     "name": "stdout",
     "output_type": "stream",
     "text": [
      "f(43) = -2.34E+9\n",
      "f(21) = -6.88E+7\n"
     ]
    }
   ],
   "source": [
    "def f(n):\n",
    "    p1 = p2 = 0\n",
    "    for i in range(1, n+1):\n",
    "        p1 += math.tan(math.log(i) - ((i**3)/(67)) - 31) + i**2\n",
    "    for i in range(1, n+1):\n",
    "        p2 += 75 * i**4 + i\n",
    "    return p1 - p2\n",
    "\n",
    "\n",
    "print(f\"f(43) = {Decimal(f(43)):.2E}\")\n",
    "print(f\"f(21) = {Decimal(f(21)):.2E}\")"
   ]
  },
  {
   "cell_type": "markdown",
   "id": "interstate-trouble",
   "metadata": {},
   "source": [
    "**Задача 1.4.** Реализовать рукуррентную функцию\n",
    "$$\n",
    "f(0) = 3, \\\\\n",
    "f(n) = \\frac{1}{6}f(n-1)+sin{(f(n-1))}\n",
    "$$"
   ]
  },
  {
   "cell_type": "markdown",
   "id": "tight-showcase",
   "metadata": {},
   "source": [
    "Примеры вычисления f:\n",
    "1. `f(11) = 1.00e+00`\n",
    "2. `f(2) = 7.05e-1`"
   ]
  },
  {
   "cell_type": "code",
   "execution_count": 12,
   "id": "choice-amino",
   "metadata": {},
   "outputs": [
    {
     "name": "stdout",
     "output_type": "stream",
     "text": [
      "f(11) = 1.00E+0\n",
      "f(2) = 7.05E-1\n"
     ]
    }
   ],
   "source": [
    "def f(n):\n",
    "    if n == 0:\n",
    "        return 3\n",
    "    else:\n",
    "        return f(n-1)/6 + math.sin(f(n-1))\n",
    "\n",
    "\n",
    "print(f\"f(11) = {Decimal(f(11)):.2E}\")\n",
    "print(f\"f(2) = {Decimal(f(2)):.2E}\")"
   ]
  }
 ],
 "metadata": {
  "kernelspec": {
   "display_name": "Python 3",
   "language": "python",
   "name": "python3"
  },
  "language_info": {
   "codemirror_mode": {
    "name": "ipython",
    "version": 3
   },
   "file_extension": ".py",
   "mimetype": "text/x-python",
   "name": "python",
   "nbconvert_exporter": "python",
   "pygments_lexer": "ipython3",
   "version": "3.9.1"
  }
 },
 "nbformat": 4,
 "nbformat_minor": 5
}
