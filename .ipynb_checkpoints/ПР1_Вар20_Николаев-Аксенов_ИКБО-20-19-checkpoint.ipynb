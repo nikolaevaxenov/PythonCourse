{
 "cells": [
  {
   "cell_type": "markdown",
   "id": "disciplinary-sensitivity",
   "metadata": {},
   "source": [
    "**Задача 1.1.** Реализовать функцию\n",
    "$ f(x, y, z) = \\frac{57y^{4}+\\sin{z}}{21y^{5}-30z^{2}}-(z^{7}-53y^{8})+ \\frac{x^{4}-\\sin{z}}{y^{6}-x^{7}} $"
   ]
  },
  {
   "cell_type": "markdown",
   "id": "usual-opening",
   "metadata": {},
   "source": [
    "Примеры вычисления f:\n",
    "1. `f(15, 59, 39) = 7.78e+15`\n",
    "2. `f(-59, -54, 17) = 3.83e+15`"
   ]
  },
  {
   "cell_type": "markdown",
   "id": "indian-timeline",
   "metadata": {},
   "source": [
    "**Решение:**"
   ]
  },
  {
   "cell_type": "code",
   "execution_count": 18,
   "id": "consistent-doctrine",
   "metadata": {},
   "outputs": [
    {
     "name": "stdout",
     "output_type": "stream",
     "text": [
      "f(15, 59, 39) = 7.78E+15\n",
      "f(-59, -54, 17) = 3.83E+15\n"
     ]
    }
   ],
   "source": [
    "from decimal import Decimal\n",
    "import math\n",
    "\n",
    "def f(x, y, z):\n",
    "    return ((57 * y**4 + math.sin(z)) / (21 * y**5 - 30 * z**2)) - (z**7 - 53 * y**8) + ((x**4 - math.sin(z) / (y**6 - x**7)))\n",
    "\n",
    "\n",
    "print(f\"f(15, 59, 39) = {Decimal(f(15, 59, 39)):.2E}\")\n",
    "print(f\"f(-59, -54, 17) = {Decimal(f(-59, -54, 17)):.2E}\")"
   ]
  },
  {
   "cell_type": "markdown",
   "id": "insured-footage",
   "metadata": {},
   "source": [
    "**Задача 1.2.** Реализовать кусочно-линейную функцию\n",
    "$$\n",
    "f(x) = \\left\\{\n",
    "    \\begin{array}\\\\\n",
    "        57x^{4}+\\frac{x}{21}, & \\mbox{x < 46} \\\\\n",
    "        73x^{5}-cos{x}, & \\mbox{46 $\\leq$ x < 139} \\\\\n",
    "        x^{3}+x-sin{x}, & \\mbox{139 $\\leq$ x < 184} \\\\\n",
    "        x^{6}-x^{7}, & \\mbox{184 $\\leq$ x < 246} \\\\\n",
    "        87x^{3}-sin{x}-73, & \\mbox{x $\\geq$ 246}\n",
    "    \\end{array}\n",
    "\\right.\n",
    "$$"
   ]
  },
  {
   "cell_type": "markdown",
   "id": "fifteen-consultation",
   "metadata": {},
   "source": [
    "Примеры вычисления f:\n",
    "1. `f(141) = 2.80e+06`\n",
    "2. `f(16) = 3.74e+06`"
   ]
  },
  {
   "cell_type": "code",
   "execution_count": 19,
   "id": "practical-trademark",
   "metadata": {},
   "outputs": [
    {
     "name": "stdout",
     "output_type": "stream",
     "text": [
      "f(141) = 2.80E+6\n",
      "f(16) = 3.74E+6\n"
     ]
    }
   ],
   "source": [
    "from decimal import Decimal\n",
    "import math\n",
    "\n",
    "def f(x):\n",
    "    if x < 46:\n",
    "        return 57 * x**4 + (x/21)\n",
    "    elif 46 <= x < 139:\n",
    "        return 73 * x**5 - math.cos(x)\n",
    "    elif 139 <= x < 184:\n",
    "        return x**3 + x - math.sin(x)\n",
    "    elif 184 <= x < 246:\n",
    "        return x**6 - x**7\n",
    "    else:\n",
    "        return 87 * x**3 - math.sin(x) - 73\n",
    "\n",
    "\n",
    "print(f\"f(141) = {Decimal(f(141)):.2E}\")\n",
    "print(f\"f(16) = {Decimal(f(16)):.2E}\")"
   ]
  },
  {
   "cell_type": "markdown",
   "id": "cooked-worthy",
   "metadata": {},
   "source": [
    "**Задача 1.3.** Реализовать итарационную функцию\n",
    "$$f(n, m) = \\sum^n_{i=1}\\sum^{m}_{j=1}\\,(57i^{4}+sin{j}) - \\sum^n_{i=1}\\sum^{m}_{j=1}\\, (73i^{5}-i^{7})$$"
   ]
  },
  {
   "cell_type": "markdown",
   "id": "bored-brazilian",
   "metadata": {},
   "source": [
    "Примеры вычисления f:\n",
    "1. `f(16, 98) = 4.41e+10`\n",
    "2. `f(35, 76) = 2.21e+13`"
   ]
  },
  {
   "cell_type": "code",
   "execution_count": 20,
   "id": "naughty-passage",
   "metadata": {},
   "outputs": [
    {
     "name": "stdout",
     "output_type": "stream",
     "text": [
      "f(16, 98) = 4.41E+10\n",
      "f(35, 76) = 2.21E+13\n"
     ]
    }
   ],
   "source": [
    "from decimal import Decimal\n",
    "import math\n",
    "\n",
    "def f(n, m):\n",
    "    p1 = p2 = 0\n",
    "    for i in range(1, n+1):\n",
    "        for j in range(1, m+1):\n",
    "            p1 += 57 * i**4 + math.sin(j)\n",
    "    for i in range(1, n+1):\n",
    "        for j in range(1, m+1):\n",
    "            p2 += 73 * i**5 - i**7\n",
    "    return p1 - p2\n",
    "\n",
    "\n",
    "print(f\"f(16, 98) = {Decimal(f(16, 98)):.2E}\")\n",
    "print(f\"f(35, 76) = {Decimal(f(35, 76)):.2E}\")"
   ]
  },
  {
   "cell_type": "markdown",
   "id": "bearing-precipitation",
   "metadata": {},
   "source": [
    "**Задача 1.4.** Реализовать рукуррентную функцию\n",
    "$$\n",
    "f(0) = 5, \\\\\n",
    "f(n) = tg(f(n-1))+sin{(f(n-1))}\n",
    "$$"
   ]
  },
  {
   "cell_type": "markdown",
   "id": "powered-knitting",
   "metadata": {},
   "source": [
    "Примеры вычисления f:\n",
    "1. `f(15) = -3.96e+00`\n",
    "2. `f(3) = 1.76e+01`"
   ]
  },
  {
   "cell_type": "code",
   "execution_count": 17,
   "id": "numerical-record",
   "metadata": {},
   "outputs": [
    {
     "name": "stdout",
     "output_type": "stream",
     "text": [
      "f(15) = -3.96E+0\n",
      "f(3) = 1.76E+1\n"
     ]
    }
   ],
   "source": [
    "from decimal import Decimal\n",
    "import math\n",
    "\n",
    "def f(n):\n",
    "    if n == 0:\n",
    "        return 5\n",
    "    else:\n",
    "        return math.tan(f(n - 1)) + math.sin(f(n - 1))\n",
    "\n",
    "\n",
    "print(f\"f(15) = {Decimal(f(15)):.2E}\")\n",
    "print(f\"f(3) = {Decimal(f(3)):.2E}\")"
   ]
  },
  {
   "cell_type": "code",
   "execution_count": null,
   "id": "found-hammer",
   "metadata": {},
   "outputs": [],
   "source": []
  }
 ],
 "metadata": {
  "kernelspec": {
   "display_name": "Python 3",
   "language": "python",
   "name": "python3"
  },
  "language_info": {
   "codemirror_mode": {
    "name": "ipython",
    "version": 3
   },
   "file_extension": ".py",
   "mimetype": "text/x-python",
   "name": "python",
   "nbconvert_exporter": "python",
   "pygments_lexer": "ipython3",
   "version": "3.9.1"
  }
 },
 "nbformat": 4,
 "nbformat_minor": 5
}
